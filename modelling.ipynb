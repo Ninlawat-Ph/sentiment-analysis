{
  "nbformat": 4,
  "nbformat_minor": 0,
  "metadata": {
    "colab": {
      "name": "modelling.ipynb",
      "provenance": [],
      "collapsed_sections": [],
      "include_colab_link": true
    },
    "kernelspec": {
      "name": "python3",
      "display_name": "Python 3"
    }
  },
  "cells": [
    {
      "cell_type": "markdown",
      "metadata": {
        "id": "view-in-github",
        "colab_type": "text"
      },
      "source": [
        "<a href=\"https://colab.research.google.com/github/Ninlawat-Ph/sentiment-analysis/blob/master/modelling.ipynb\" target=\"_parent\"><img src=\"https://colab.research.google.com/assets/colab-badge.svg\" alt=\"Open In Colab\"/></a>"
      ]
    },
    {
      "cell_type": "code",
      "metadata": {
        "id": "HUKV95VpfAik",
        "colab_type": "code",
        "outputId": "fce131d7-24f2-461d-9532-968e0a00de0b",
        "colab": {
          "base_uri": "https://localhost:8080/",
          "height": 267
        }
      },
      "source": [
        "!pip install googletrans\n",
        "!pip install tqdm --upgrade\n",
        "!pip install twython"
      ],
      "execution_count": 0,
      "outputs": [
        {
          "output_type": "stream",
          "text": [
            "Requirement already satisfied: googletrans in /usr/local/lib/python3.6/dist-packages (2.4.0)\n",
            "Requirement already satisfied: requests in /usr/local/lib/python3.6/dist-packages (from googletrans) (2.21.0)\n",
            "Requirement already satisfied: urllib3<1.25,>=1.21.1 in /usr/local/lib/python3.6/dist-packages (from requests->googletrans) (1.24.3)\n",
            "Requirement already satisfied: chardet<3.1.0,>=3.0.2 in /usr/local/lib/python3.6/dist-packages (from requests->googletrans) (3.0.4)\n",
            "Requirement already satisfied: certifi>=2017.4.17 in /usr/local/lib/python3.6/dist-packages (from requests->googletrans) (2020.4.5.1)\n",
            "Requirement already satisfied: idna<2.9,>=2.5 in /usr/local/lib/python3.6/dist-packages (from requests->googletrans) (2.8)\n",
            "Requirement already up-to-date: tqdm in /usr/local/lib/python3.6/dist-packages (4.45.0)\n",
            "Requirement already satisfied: twython in /usr/local/lib/python3.6/dist-packages (3.8.2)\n",
            "Requirement already satisfied: requests>=2.1.0 in /usr/local/lib/python3.6/dist-packages (from twython) (2.21.0)\n",
            "Requirement already satisfied: requests-oauthlib>=0.4.0 in /usr/local/lib/python3.6/dist-packages (from twython) (1.3.0)\n",
            "Requirement already satisfied: urllib3<1.25,>=1.21.1 in /usr/local/lib/python3.6/dist-packages (from requests>=2.1.0->twython) (1.24.3)\n",
            "Requirement already satisfied: chardet<3.1.0,>=3.0.2 in /usr/local/lib/python3.6/dist-packages (from requests>=2.1.0->twython) (3.0.4)\n",
            "Requirement already satisfied: idna<2.9,>=2.5 in /usr/local/lib/python3.6/dist-packages (from requests>=2.1.0->twython) (2.8)\n",
            "Requirement already satisfied: certifi>=2017.4.17 in /usr/local/lib/python3.6/dist-packages (from requests>=2.1.0->twython) (2020.4.5.1)\n",
            "Requirement already satisfied: oauthlib>=3.0.0 in /usr/local/lib/python3.6/dist-packages (from requests-oauthlib>=0.4.0->twython) (3.1.0)\n"
          ],
          "name": "stdout"
        }
      ]
    },
    {
      "cell_type": "markdown",
      "metadata": {
        "id": "cdvIdNDPfv1g",
        "colab_type": "text"
      },
      "source": [
        "## Import Modules"
      ]
    },
    {
      "cell_type": "code",
      "metadata": {
        "id": "8cRcucvLfxfz",
        "colab_type": "code",
        "colab": {}
      },
      "source": [
        "# web scraping\n",
        "import requests\n",
        "from bs4 import BeautifulSoup\n",
        "from time import time, sleep\n",
        "from random import randint\n",
        "\n",
        "# Translation\n",
        "from googletrans import Translator\n",
        "\n",
        "# Utilities\n",
        "from tqdm import tqdm\n",
        "import numpy as np\n",
        "import pandas as pd\n",
        "\n",
        "# NLP\n",
        "from nltk import sent_tokenize, word_tokenize\n",
        "from nltk.sentiment.vader import SentimentIntensityAnalyzer\n",
        "from nltk.sentiment.util import mark_negation"
      ],
      "execution_count": 0,
      "outputs": []
    },
    {
      "cell_type": "code",
      "metadata": {
        "id": "DrjJPFI6fay9",
        "colab_type": "code",
        "colab": {}
      },
      "source": [
        "# restore data\n",
        "data1= pd.read_csv(\"data_lanna_en.csv\")\n",
        "data2= pd.read_csv(\"data_siriraj_piyamaharajkarun_en.csv\")\n",
        "data3= pd.read_csv(\"data_vajira_hospital_en.csv\")"
      ],
      "execution_count": 0,
      "outputs": []
    },
    {
      "cell_type": "markdown",
      "metadata": {
        "id": "n-4t-BiibQw_",
        "colab_type": "text"
      },
      "source": [
        "## Sentence-level Extraction"
      ]
    },
    {
      "cell_type": "code",
      "metadata": {
        "id": "rIocmEK6cNdl",
        "colab_type": "code",
        "outputId": "582e9fe5-56c0-476e-ecab-ac7c1c2c3345",
        "colab": {
          "base_uri": "https://localhost:8080/",
          "height": 50
        }
      },
      "source": [
        "import nltk\n",
        "nltk.download('vader_lexicon')"
      ],
      "execution_count": 0,
      "outputs": [
        {
          "output_type": "stream",
          "text": [
            "[nltk_data] Downloading package vader_lexicon to /root/nltk_data...\n"
          ],
          "name": "stdout"
        },
        {
          "output_type": "execute_result",
          "data": {
            "text/plain": [
              "True"
            ]
          },
          "metadata": {
            "tags": []
          },
          "execution_count": 4
        }
      ]
    },
    {
      "cell_type": "code",
      "metadata": {
        "id": "OaJd5a6WbT48",
        "colab_type": "code",
        "colab": {}
      },
      "source": [
        "def sent_level_polarity(df, target):\n",
        "  sentences = []\n",
        "  scores = []\n",
        "  for i in df.index:\n",
        "    en = df.loc[i, target]\n",
        "    score = df.loc[i, \"score\"]\n",
        "    s = sent_tokenize(en)\n",
        "    sentences = sentences + s\n",
        "    scores = scores + [score]*len(s)\n",
        "  return pd.DataFrame({\"sentences\": sentences, \"scores\": scores})"
      ],
      "execution_count": 0,
      "outputs": []
    },
    {
      "cell_type": "code",
      "metadata": {
        "id": "3Bh7qSckbXDE",
        "colab_type": "code",
        "colab": {}
      },
      "source": [
        "def predict_sentiment(sentence):\n",
        "  sa = SentimentIntensityAnalyzer()\n",
        "  sentiment_distribution = sa.polarity_scores(sentence)\n",
        "  score = sentiment_distribution.get(\"compound\")\n",
        "  \n",
        "  if score >= 0.05:\n",
        "    return \"positive\"\n",
        "  elif score <= -0.05:\n",
        "    return \"negative\"\n",
        "  else:\n",
        "    return \"neutral\""
      ],
      "execution_count": 0,
      "outputs": []
    },
    {
      "cell_type": "code",
      "metadata": {
        "id": "S0va3xxUATOq",
        "colab_type": "code",
        "outputId": "eb425802-3ae4-4558-8b04-111d1267d6b8",
        "colab": {
          "base_uri": "https://localhost:8080/",
          "height": 67
        }
      },
      "source": [
        "import nltk\n",
        "nltk.download('punkt')"
      ],
      "execution_count": 0,
      "outputs": [
        {
          "output_type": "stream",
          "text": [
            "[nltk_data] Downloading package punkt to /root/nltk_data...\n",
            "[nltk_data]   Unzipping tokenizers/punkt.zip.\n"
          ],
          "name": "stdout"
        },
        {
          "output_type": "execute_result",
          "data": {
            "text/plain": [
              "True"
            ]
          },
          "metadata": {
            "tags": []
          },
          "execution_count": 7
        }
      ]
    },
    {
      "cell_type": "code",
      "metadata": {
        "id": "2lSMDdCHbbmI",
        "colab_type": "code",
        "colab": {}
      },
      "source": [
        "data1_temp = sent_level_polarity(df=data1, target=\"en\")\n",
        "data1[\"sentiment_polarity\"] = data1_temp[\"sentences\"].apply(lambda x: predict_sentiment(x))"
      ],
      "execution_count": 0,
      "outputs": []
    },
    {
      "cell_type": "code",
      "metadata": {
        "id": "oFF6Zeu_cRqm",
        "colab_type": "code",
        "colab": {}
      },
      "source": [
        "data2_temp = sent_level_polarity(df=data2, target=\"en\")\n",
        "data2[\"sentiment_polarity\"] = data2_temp[\"sentences\"].apply(lambda x: predict_sentiment(x))"
      ],
      "execution_count": 0,
      "outputs": []
    },
    {
      "cell_type": "code",
      "metadata": {
        "id": "GCStHHTjeuCE",
        "colab_type": "code",
        "colab": {}
      },
      "source": [
        "data3_temp = sent_level_polarity(df=data3, target=\"en\")\n",
        "data3[\"sentiment_polarity\"] = data3_temp[\"sentences\"].apply(lambda x: predict_sentiment(x))"
      ],
      "execution_count": 0,
      "outputs": []
    },
    {
      "cell_type": "markdown",
      "metadata": {
        "id": "vPj9dXyUfFmy",
        "colab_type": "text"
      },
      "source": [
        "## Exclude Neutral"
      ]
    },
    {
      "cell_type": "code",
      "metadata": {
        "id": "u8WVG6EofHfc",
        "colab_type": "code",
        "colab": {}
      },
      "source": [
        "data1 = data1[data1[\"sentiment_polarity\"] != \"neutral\"].reset_index(drop=True)\n",
        "data2 = data2[data2[\"sentiment_polarity\"] != \"neutral\"].reset_index(drop=True)\n",
        "data3 = data3[data3[\"sentiment_polarity\"] != \"neutral\"].reset_index(drop=True)"
      ],
      "execution_count": 0,
      "outputs": []
    },
    {
      "cell_type": "markdown",
      "metadata": {
        "id": "qyOF4FiafUON",
        "colab_type": "text"
      },
      "source": [
        "## Label encoding the data"
      ]
    },
    {
      "cell_type": "code",
      "metadata": {
        "id": "fKD1Z5M8fX4q",
        "colab_type": "code",
        "colab": {}
      },
      "source": [
        "# label encoding the data \n",
        "from sklearn.preprocessing import LabelEncoder"
      ],
      "execution_count": 0,
      "outputs": []
    },
    {
      "cell_type": "code",
      "metadata": {
        "id": "6nSpLOUHfj9R",
        "colab_type": "code",
        "colab": {}
      },
      "source": [
        "le = LabelEncoder()"
      ],
      "execution_count": 0,
      "outputs": []
    },
    {
      "cell_type": "code",
      "metadata": {
        "id": "p4LgTFDjflUc",
        "colab_type": "code",
        "colab": {}
      },
      "source": [
        "#encode it is 1 for positive and 0 for negative.\n",
        "data1['label']=le.fit_transform(data1['sentiment_polarity'])\n",
        "data2['label']=le.fit_transform(data2['sentiment_polarity'])\n",
        "data3['label']=le.fit_transform(data3['sentiment_polarity'])"
      ],
      "execution_count": 0,
      "outputs": []
    },
    {
      "cell_type": "markdown",
      "metadata": {
        "id": "SL7WsOiZfvZW",
        "colab_type": "text"
      },
      "source": [
        "## Concat dataframe each hospital "
      ]
    },
    {
      "cell_type": "code",
      "metadata": {
        "id": "fM_ftTqXe3zG",
        "colab_type": "code",
        "colab": {}
      },
      "source": [
        "frames = [data1, data2, data3]"
      ],
      "execution_count": 0,
      "outputs": []
    },
    {
      "cell_type": "code",
      "metadata": {
        "id": "ACg372aNf9Jg",
        "colab_type": "code",
        "colab": {}
      },
      "source": [
        "data = pd.concat(frames)"
      ],
      "execution_count": 0,
      "outputs": []
    },
    {
      "cell_type": "code",
      "metadata": {
        "id": "PfQ7esHUf_mq",
        "colab_type": "code",
        "outputId": "aae84c78-6834-4ee7-d352-40c2689f6ba8",
        "colab": {
          "base_uri": "https://localhost:8080/",
          "height": 281
        }
      },
      "source": [
        "data.head()"
      ],
      "execution_count": 0,
      "outputs": [
        {
          "output_type": "execute_result",
          "data": {
            "text/html": [
              "<div>\n",
              "<style scoped>\n",
              "    .dataframe tbody tr th:only-of-type {\n",
              "        vertical-align: middle;\n",
              "    }\n",
              "\n",
              "    .dataframe tbody tr th {\n",
              "        vertical-align: top;\n",
              "    }\n",
              "\n",
              "    .dataframe thead th {\n",
              "        text-align: right;\n",
              "    }\n",
              "</style>\n",
              "<table border=\"1\" class=\"dataframe\">\n",
              "  <thead>\n",
              "    <tr style=\"text-align: right;\">\n",
              "      <th></th>\n",
              "      <th>comment</th>\n",
              "      <th>score</th>\n",
              "      <th>non_emojis</th>\n",
              "      <th>en</th>\n",
              "      <th>sentiment_polarity</th>\n",
              "      <th>label</th>\n",
              "    </tr>\n",
              "  </thead>\n",
              "  <tbody>\n",
              "    <tr>\n",
              "      <th>0</th>\n",
              "      <td>คุณหมอดูแลดีมากเลยค่ะ ตรวจละเอียด รักษาได้ตรงจ...</td>\n",
              "      <td>5</td>\n",
              "      <td>คุณหมอดูแลดีมากเลยค่ะ ตรวจละเอียด รักษาได้ตรงจ...</td>\n",
              "      <td>You take very good care of check points too. M...</td>\n",
              "      <td>positive</td>\n",
              "      <td>1</td>\n",
              "    </tr>\n",
              "    <tr>\n",
              "      <th>1</th>\n",
              "      <td>โดนแมวที่เลี้ยงไว้กัดคะ ได้ไปทำแผลที่ รพ.นี้ เ...</td>\n",
              "      <td>4</td>\n",
              "      <td>โดนแมวที่เลี้ยงไว้กัดคะ ได้ไปทำแผลที่ รพ.นี้ เ...</td>\n",
              "      <td>A cat that bites you. Do not wound the hospita...</td>\n",
              "      <td>positive</td>\n",
              "      <td>1</td>\n",
              "    </tr>\n",
              "    <tr>\n",
              "      <th>2</th>\n",
              "      <td>มีอาการกรดไหลย้อน ทำให้หายใจไม่ออก และเหนื่อยม...</td>\n",
              "      <td>5</td>\n",
              "      <td>มีอาการกรดไหลย้อน ทำให้หายใจไม่ออก และเหนื่อยม...</td>\n",
              "      <td>Symptoms of GERD Asphyxiate And tired I can no...</td>\n",
              "      <td>positive</td>\n",
              "      <td>1</td>\n",
              "    </tr>\n",
              "    <tr>\n",
              "      <th>3</th>\n",
              "      <td>มีประกันสังคมที่ โรงพยาบาลลานนาเชียงใหม่ค่ะประ...</td>\n",
              "      <td>5</td>\n",
              "      <td>มีประกันสังคมที่ โรงพยาบาลลานนาเชียงใหม่ค่ะประ...</td>\n",
              "      <td>With Social Security Hospital Lanna me very im...</td>\n",
              "      <td>positive</td>\n",
              "      <td>1</td>\n",
              "    </tr>\n",
              "    <tr>\n",
              "      <th>4</th>\n",
              "      <td>หมอสามารถพูดคุยภาษาอังกฤษได้คล่องแคล่วดีค่ะ เพ...</td>\n",
              "      <td>5</td>\n",
              "      <td>หมอสามารถพูดคุยภาษาอังกฤษได้คล่องแคล่วดีค่ะ เพ...</td>\n",
              "      <td>I can speak English fluently good. He was the ...</td>\n",
              "      <td>positive</td>\n",
              "      <td>1</td>\n",
              "    </tr>\n",
              "  </tbody>\n",
              "</table>\n",
              "</div>"
            ],
            "text/plain": [
              "                                             comment  ...  label\n",
              "0  คุณหมอดูแลดีมากเลยค่ะ ตรวจละเอียด รักษาได้ตรงจ...  ...      1\n",
              "1  โดนแมวที่เลี้ยงไว้กัดคะ ได้ไปทำแผลที่ รพ.นี้ เ...  ...      1\n",
              "2  มีอาการกรดไหลย้อน ทำให้หายใจไม่ออก และเหนื่อยม...  ...      1\n",
              "3  มีประกันสังคมที่ โรงพยาบาลลานนาเชียงใหม่ค่ะประ...  ...      1\n",
              "4  หมอสามารถพูดคุยภาษาอังกฤษได้คล่องแคล่วดีค่ะ เพ...  ...      1\n",
              "\n",
              "[5 rows x 6 columns]"
            ]
          },
          "metadata": {
            "tags": []
          },
          "execution_count": 17
        }
      ]
    },
    {
      "cell_type": "markdown",
      "metadata": {
        "id": "8KdKeUmbgN4b",
        "colab_type": "text"
      },
      "source": [
        "## Text Preprocessing"
      ]
    },
    {
      "cell_type": "code",
      "metadata": {
        "id": "LMlDSgKmgSmB",
        "colab_type": "code",
        "outputId": "30cef9c8-69df-47ca-8915-22a64a3bdc6f",
        "colab": {
          "base_uri": "https://localhost:8080/",
          "height": 100
        }
      },
      "source": [
        "import nltk\n",
        "from nltk.corpus import stopwords\n",
        "\n",
        "nltk.download(\"stopwords\")\n",
        "nltk.download(\"punkt\")"
      ],
      "execution_count": 0,
      "outputs": [
        {
          "output_type": "stream",
          "text": [
            "[nltk_data] Downloading package stopwords to /root/nltk_data...\n",
            "[nltk_data]   Unzipping corpora/stopwords.zip.\n",
            "[nltk_data] Downloading package punkt to /root/nltk_data...\n",
            "[nltk_data]   Package punkt is already up-to-date!\n"
          ],
          "name": "stdout"
        },
        {
          "output_type": "execute_result",
          "data": {
            "text/plain": [
              "True"
            ]
          },
          "metadata": {
            "tags": []
          },
          "execution_count": 18
        }
      ]
    },
    {
      "cell_type": "markdown",
      "metadata": {
        "id": "vicpfceIytZJ",
        "colab_type": "text"
      },
      "source": [
        "###  Stopword removal "
      ]
    },
    {
      "cell_type": "code",
      "metadata": {
        "id": "p2WM12isKHjR",
        "colab_type": "code",
        "outputId": "c02fc764-8dd0-440f-9faa-534d294275a1",
        "colab": {
          "base_uri": "https://localhost:8080/",
          "height": 33
        }
      },
      "source": [
        "sw = stopwords.words(\"english\")\n",
        "sw[0:10]"
      ],
      "execution_count": 0,
      "outputs": [
        {
          "output_type": "execute_result",
          "data": {
            "text/plain": [
              "['i', 'me', 'my', 'myself', 'we', 'our', 'ours', 'ourselves', 'you', \"you're\"]"
            ]
          },
          "metadata": {
            "tags": []
          },
          "execution_count": 19
        }
      ]
    },
    {
      "cell_type": "markdown",
      "metadata": {
        "id": "lMR4fUgcKPsF",
        "colab_type": "text"
      },
      "source": [
        "## Create the new column of tokens"
      ]
    },
    {
      "cell_type": "markdown",
      "metadata": {
        "id": "l4cuyQ1twaRs",
        "colab_type": "text"
      },
      "source": [
        "### tokenization"
      ]
    },
    {
      "cell_type": "code",
      "metadata": {
        "id": "idANprGOL-6F",
        "colab_type": "code",
        "colab": {}
      },
      "source": [
        "from nltk import sent_tokenize, word_tokenize\n",
        "data[\"tokens\"] = data[\"en\"].apply(lambda x: \n",
        "                                        sum([word_tokenize(sentence) \n",
        "                                        for sentence in \n",
        "                                        sent_tokenize(x.lower())], []))"
      ],
      "execution_count": 0,
      "outputs": []
    },
    {
      "cell_type": "code",
      "metadata": {
        "id": "4dGT5TUGOcV8",
        "colab_type": "code",
        "colab": {}
      },
      "source": [
        "data[\"tokens\"] = data[\"tokens\"].apply(lambda x: list(set(x) - set(sw)))"
      ],
      "execution_count": 0,
      "outputs": []
    },
    {
      "cell_type": "code",
      "metadata": {
        "id": "oeG1DEqBQGc5",
        "colab_type": "code",
        "outputId": "75343683-1d2c-4349-d8d6-44b79b306d81",
        "colab": {
          "base_uri": "https://localhost:8080/",
          "height": 297
        }
      },
      "source": [
        "data.head()"
      ],
      "execution_count": 0,
      "outputs": [
        {
          "output_type": "execute_result",
          "data": {
            "text/html": [
              "<div>\n",
              "<style scoped>\n",
              "    .dataframe tbody tr th:only-of-type {\n",
              "        vertical-align: middle;\n",
              "    }\n",
              "\n",
              "    .dataframe tbody tr th {\n",
              "        vertical-align: top;\n",
              "    }\n",
              "\n",
              "    .dataframe thead th {\n",
              "        text-align: right;\n",
              "    }\n",
              "</style>\n",
              "<table border=\"1\" class=\"dataframe\">\n",
              "  <thead>\n",
              "    <tr style=\"text-align: right;\">\n",
              "      <th></th>\n",
              "      <th>comment</th>\n",
              "      <th>score</th>\n",
              "      <th>non_emojis</th>\n",
              "      <th>en</th>\n",
              "      <th>sentiment_polarity</th>\n",
              "      <th>label</th>\n",
              "      <th>tokens</th>\n",
              "    </tr>\n",
              "  </thead>\n",
              "  <tbody>\n",
              "    <tr>\n",
              "      <th>0</th>\n",
              "      <td>คุณหมอดูแลดีมากเลยค่ะ ตรวจละเอียด รักษาได้ตรงจ...</td>\n",
              "      <td>5</td>\n",
              "      <td>คุณหมอดูแลดีมากเลยค่ะ ตรวจละเอียด รักษาได้ตรงจ...</td>\n",
              "      <td>You take very good care of check points too. M...</td>\n",
              "      <td>positive</td>\n",
              "      <td>1</td>\n",
              "      <td>[check, points, hospital, much, make, patient,...</td>\n",
              "    </tr>\n",
              "    <tr>\n",
              "      <th>1</th>\n",
              "      <td>โดนแมวที่เลี้ยงไว้กัดคะ ได้ไปทำแผลที่ รพ.นี้ เ...</td>\n",
              "      <td>4</td>\n",
              "      <td>โดนแมวที่เลี้ยงไว้กัดคะ ได้ไปทำแผลที่ รพ.นี้ เ...</td>\n",
              "      <td>A cat that bites you. Do not wound the hospita...</td>\n",
              "      <td>positive</td>\n",
              "      <td>1</td>\n",
              "      <td>[little, hospital, much, wait, 1, users, conve...</td>\n",
              "    </tr>\n",
              "    <tr>\n",
              "      <th>2</th>\n",
              "      <td>มีอาการกรดไหลย้อน ทำให้หายใจไม่ออก และเหนื่อยม...</td>\n",
              "      <td>5</td>\n",
              "      <td>มีอาการกรดไหลย้อน ทำให้หายใจไม่ออก และเหนื่อยม...</td>\n",
              "      <td>Symptoms of GERD Asphyxiate And tired I can no...</td>\n",
              "      <td>positive</td>\n",
              "      <td>1</td>\n",
              "      <td>[insurance, hospital, waiting, social, ., mai,...</td>\n",
              "    </tr>\n",
              "    <tr>\n",
              "      <th>3</th>\n",
              "      <td>มีประกันสังคมที่ โรงพยาบาลลานนาเชียงใหม่ค่ะประ...</td>\n",
              "      <td>5</td>\n",
              "      <td>มีประกันสังคมที่ โรงพยาบาลลานนาเชียงใหม่ค่ะประ...</td>\n",
              "      <td>With Social Security Hospital Lanna me very im...</td>\n",
              "      <td>positive</td>\n",
              "      <td>1</td>\n",
              "      <td>[hospital, fast, sounds, thoroughly, patient, ...</td>\n",
              "    </tr>\n",
              "    <tr>\n",
              "      <th>4</th>\n",
              "      <td>หมอสามารถพูดคุยภาษาอังกฤษได้คล่องแคล่วดีค่ะ เพ...</td>\n",
              "      <td>5</td>\n",
              "      <td>หมอสามารถพูดคุยภาษาอังกฤษได้คล่องแคล่วดีค่ะ เพ...</td>\n",
              "      <td>I can speak English fluently good. He was the ...</td>\n",
              "      <td>positive</td>\n",
              "      <td>1</td>\n",
              "      <td>[doctors, asked, grandmother, (, patients, mov...</td>\n",
              "    </tr>\n",
              "  </tbody>\n",
              "</table>\n",
              "</div>"
            ],
            "text/plain": [
              "                                             comment  ...                                             tokens\n",
              "0  คุณหมอดูแลดีมากเลยค่ะ ตรวจละเอียด รักษาได้ตรงจ...  ...  [check, points, hospital, much, make, patient,...\n",
              "1  โดนแมวที่เลี้ยงไว้กัดคะ ได้ไปทำแผลที่ รพ.นี้ เ...  ...  [little, hospital, much, wait, 1, users, conve...\n",
              "2  มีอาการกรดไหลย้อน ทำให้หายใจไม่ออก และเหนื่อยม...  ...  [insurance, hospital, waiting, social, ., mai,...\n",
              "3  มีประกันสังคมที่ โรงพยาบาลลานนาเชียงใหม่ค่ะประ...  ...  [hospital, fast, sounds, thoroughly, patient, ...\n",
              "4  หมอสามารถพูดคุยภาษาอังกฤษได้คล่องแคล่วดีค่ะ เพ...  ...  [doctors, asked, grandmother, (, patients, mov...\n",
              "\n",
              "[5 rows x 7 columns]"
            ]
          },
          "metadata": {
            "tags": []
          },
          "execution_count": 22
        }
      ]
    },
    {
      "cell_type": "markdown",
      "metadata": {
        "id": "njS7cqEiQO1Z",
        "colab_type": "text"
      },
      "source": [
        "## Vectorization"
      ]
    },
    {
      "cell_type": "code",
      "metadata": {
        "id": "HOJVTs_vQTca",
        "colab_type": "code",
        "colab": {}
      },
      "source": [
        "from sklearn.feature_extraction.text import TfidfVectorizer\n",
        "from sklearn.decomposition import LatentDirichletAllocation"
      ],
      "execution_count": 0,
      "outputs": []
    },
    {
      "cell_type": "markdown",
      "metadata": {
        "id": "URcVI9ury_E5",
        "colab_type": "text"
      },
      "source": [
        "###  TFIDF vectorization and LDA vectorization"
      ]
    },
    {
      "cell_type": "code",
      "metadata": {
        "id": "-6QVbA8YQmKO",
        "colab_type": "code",
        "colab": {}
      },
      "source": [
        "data[\"prep_sentence\"] = data[\"tokens\"].apply(lambda x: \" \".join(x))\n",
        "corpus = data[\"prep_sentence\"].tolist()\n",
        "vectorizer = TfidfVectorizer()\n",
        "X_tfidf = vectorizer.fit_transform(corpus)"
      ],
      "execution_count": 0,
      "outputs": []
    },
    {
      "cell_type": "code",
      "metadata": {
        "id": "IPiFxJS4Q2dT",
        "colab_type": "code",
        "colab": {}
      },
      "source": [
        "lda = LatentDirichletAllocation(n_components=30)\n",
        "X = lda.fit_transform(X_tfidf)"
      ],
      "execution_count": 0,
      "outputs": []
    },
    {
      "cell_type": "code",
      "metadata": {
        "id": "IK5AgKz4gY5p",
        "colab_type": "code",
        "outputId": "80a3e036-1e38-4abe-cd62-a06d7c7c41c7",
        "colab": {
          "base_uri": "https://localhost:8080/",
          "height": 364
        }
      },
      "source": [
        "data.head()"
      ],
      "execution_count": 0,
      "outputs": [
        {
          "output_type": "execute_result",
          "data": {
            "text/html": [
              "<div>\n",
              "<style scoped>\n",
              "    .dataframe tbody tr th:only-of-type {\n",
              "        vertical-align: middle;\n",
              "    }\n",
              "\n",
              "    .dataframe tbody tr th {\n",
              "        vertical-align: top;\n",
              "    }\n",
              "\n",
              "    .dataframe thead th {\n",
              "        text-align: right;\n",
              "    }\n",
              "</style>\n",
              "<table border=\"1\" class=\"dataframe\">\n",
              "  <thead>\n",
              "    <tr style=\"text-align: right;\">\n",
              "      <th></th>\n",
              "      <th>comment</th>\n",
              "      <th>score</th>\n",
              "      <th>non_emojis</th>\n",
              "      <th>en</th>\n",
              "      <th>sentiment_polarity</th>\n",
              "      <th>label</th>\n",
              "      <th>tokens</th>\n",
              "      <th>prep_sentence</th>\n",
              "    </tr>\n",
              "  </thead>\n",
              "  <tbody>\n",
              "    <tr>\n",
              "      <th>0</th>\n",
              "      <td>คุณหมอดูแลดีมากเลยค่ะ ตรวจละเอียด รักษาได้ตรงจ...</td>\n",
              "      <td>5</td>\n",
              "      <td>คุณหมอดูแลดีมากเลยค่ะ ตรวจละเอียด รักษาได้ตรงจ...</td>\n",
              "      <td>You take very good care of check points too. M...</td>\n",
              "      <td>positive</td>\n",
              "      <td>1</td>\n",
              "      <td>[check, points, hospital, much, make, patient,...</td>\n",
              "      <td>check points hospital much make patient relati...</td>\n",
              "    </tr>\n",
              "    <tr>\n",
              "      <th>1</th>\n",
              "      <td>โดนแมวที่เลี้ยงไว้กัดคะ ได้ไปทำแผลที่ รพ.นี้ เ...</td>\n",
              "      <td>4</td>\n",
              "      <td>โดนแมวที่เลี้ยงไว้กัดคะ ได้ไปทำแผลที่ รพ.นี้ เ...</td>\n",
              "      <td>A cat that bites you. Do not wound the hospita...</td>\n",
              "      <td>positive</td>\n",
              "      <td>1</td>\n",
              "      <td>[little, hospital, much, wait, 1, users, conve...</td>\n",
              "      <td>little hospital much wait 1 users convenient 3...</td>\n",
              "    </tr>\n",
              "    <tr>\n",
              "      <th>2</th>\n",
              "      <td>มีอาการกรดไหลย้อน ทำให้หายใจไม่ออก และเหนื่อยม...</td>\n",
              "      <td>5</td>\n",
              "      <td>มีอาการกรดไหลย้อน ทำให้หายใจไม่ออก และเหนื่อยม...</td>\n",
              "      <td>Symptoms of GERD Asphyxiate And tired I can no...</td>\n",
              "      <td>positive</td>\n",
              "      <td>1</td>\n",
              "      <td>[insurance, hospital, waiting, social, ., mai,...</td>\n",
              "      <td>insurance hospital waiting social . mai signs ...</td>\n",
              "    </tr>\n",
              "    <tr>\n",
              "      <th>3</th>\n",
              "      <td>มีประกันสังคมที่ โรงพยาบาลลานนาเชียงใหม่ค่ะประ...</td>\n",
              "      <td>5</td>\n",
              "      <td>มีประกันสังคมที่ โรงพยาบาลลานนาเชียงใหม่ค่ะประ...</td>\n",
              "      <td>With Social Security Hospital Lanna me very im...</td>\n",
              "      <td>positive</td>\n",
              "      <td>1</td>\n",
              "      <td>[hospital, fast, sounds, thoroughly, patient, ...</td>\n",
              "      <td>hospital fast sounds thoroughly patient social...</td>\n",
              "    </tr>\n",
              "    <tr>\n",
              "      <th>4</th>\n",
              "      <td>หมอสามารถพูดคุยภาษาอังกฤษได้คล่องแคล่วดีค่ะ เพ...</td>\n",
              "      <td>5</td>\n",
              "      <td>หมอสามารถพูดคุยภาษาอังกฤษได้คล่องแคล่วดีค่ะ เพ...</td>\n",
              "      <td>I can speak English fluently good. He was the ...</td>\n",
              "      <td>positive</td>\n",
              "      <td>1</td>\n",
              "      <td>[doctors, asked, grandmother, (, patients, mov...</td>\n",
              "      <td>doctors asked grandmother ( patients moved . c...</td>\n",
              "    </tr>\n",
              "  </tbody>\n",
              "</table>\n",
              "</div>"
            ],
            "text/plain": [
              "                                             comment  ...                                      prep_sentence\n",
              "0  คุณหมอดูแลดีมากเลยค่ะ ตรวจละเอียด รักษาได้ตรงจ...  ...  check points hospital much make patient relati...\n",
              "1  โดนแมวที่เลี้ยงไว้กัดคะ ได้ไปทำแผลที่ รพ.นี้ เ...  ...  little hospital much wait 1 users convenient 3...\n",
              "2  มีอาการกรดไหลย้อน ทำให้หายใจไม่ออก และเหนื่อยม...  ...  insurance hospital waiting social . mai signs ...\n",
              "3  มีประกันสังคมที่ โรงพยาบาลลานนาเชียงใหม่ค่ะประ...  ...  hospital fast sounds thoroughly patient social...\n",
              "4  หมอสามารถพูดคุยภาษาอังกฤษได้คล่องแคล่วดีค่ะ เพ...  ...  doctors asked grandmother ( patients moved . c...\n",
              "\n",
              "[5 rows x 8 columns]"
            ]
          },
          "metadata": {
            "tags": []
          },
          "execution_count": 26
        }
      ]
    },
    {
      "cell_type": "code",
      "metadata": {
        "id": "ncoi4NnDggjJ",
        "colab_type": "code",
        "colab": {}
      },
      "source": [
        "data.to_csv(\"hospital_prediction.csv\", index=False)"
      ],
      "execution_count": 0,
      "outputs": []
    },
    {
      "cell_type": "markdown",
      "metadata": {
        "id": "KgY7NNK81BPn",
        "colab_type": "text"
      },
      "source": [
        "# Modeling "
      ]
    },
    {
      "cell_type": "markdown",
      "metadata": {
        "id": "NQ8RDAjM1nOT",
        "colab_type": "text"
      },
      "source": [
        "### Import model"
      ]
    },
    {
      "cell_type": "code",
      "metadata": {
        "id": "99l9vB5TIHmI",
        "colab_type": "code",
        "colab": {}
      },
      "source": [
        "from sklearn import metrics\n",
        "from sklearn.model_selection import train_test_split\n",
        "from sklearn.feature_extraction.text import CountVectorizer\n",
        "from sklearn.svm import LinearSVC\n",
        "from sklearn.naive_bayes import MultinomialNB\n",
        "from sklearn.linear_model import LogisticRegression\n",
        "from sklearn.neighbors import KNeighborsClassifier\n",
        "from sklearn.ensemble import RandomForestClassifier\n",
        "from sklearn.model_selection import cross_validate\n",
        "from sklearn.metrics import classification_report, accuracy_score"
      ],
      "execution_count": 0,
      "outputs": []
    },
    {
      "cell_type": "code",
      "metadata": {
        "id": "lgJ1DuUIIfBE",
        "colab_type": "code",
        "colab": {}
      },
      "source": [
        "y = data.label"
      ],
      "execution_count": 0,
      "outputs": []
    },
    {
      "cell_type": "code",
      "metadata": {
        "id": "rnzBJ6j161YC",
        "colab_type": "code",
        "colab": {}
      },
      "source": [
        "X_train, X_test, y_train, y_test = train_test_split(X,y,random_state=1, test_size= 0.2)"
      ],
      "execution_count": 0,
      "outputs": []
    },
    {
      "cell_type": "markdown",
      "metadata": {
        "id": "4ZYQDPYZ-QKr",
        "colab_type": "text"
      },
      "source": [
        "### Random Forest classifier"
      ]
    },
    {
      "cell_type": "code",
      "metadata": {
        "id": "yR2axt-jwtB1",
        "colab_type": "code",
        "outputId": "54f7e42c-6f58-4552-93be-58b9323537ca",
        "colab": {
          "base_uri": "https://localhost:8080/",
          "height": 67
        }
      },
      "source": [
        "#Random Forest classifier\n",
        "classifier = RandomForestClassifier(n_estimators = 100, criterion = 'entropy', random_state = 0)\n",
        "cv = cross_validate(classifier, X_train, y_train, cv=10)\n",
        "print(cv['test_score'])\n",
        "print(cv['test_score'].mean())\n"
      ],
      "execution_count": 0,
      "outputs": [
        {
          "output_type": "stream",
          "text": [
            "[0.81481481 0.76923077 0.61538462 0.69230769 0.73076923 0.76923077\n",
            " 0.76923077 0.65384615 0.76923077 0.73076923]\n",
            "0.7314814814814815\n"
          ],
          "name": "stdout"
        }
      ]
    },
    {
      "cell_type": "markdown",
      "metadata": {
        "id": "NdKKgTtg2qDA",
        "colab_type": "text"
      },
      "source": [
        "Random forests เป็นวิธีที่แม่นยำและมีประสิทธิภาพ ไม่ได้รับผลกระทบจากปัญหา overfitting  ไม่มี bias สามารถจัดการกับปัญหา missing value ได้"
      ]
    },
    {
      "cell_type": "markdown",
      "metadata": {
        "id": "W55nXn_a-64t",
        "colab_type": "text"
      },
      "source": [
        "### XGBoost"
      ]
    },
    {
      "cell_type": "code",
      "metadata": {
        "id": "imCfLFWfxE37",
        "colab_type": "code",
        "outputId": "f56a781b-1115-4af6-b95d-61829604350b",
        "colab": {
          "base_uri": "https://localhost:8080/",
          "height": 67
        }
      },
      "source": [
        "# XGBoost\n",
        "import xgboost as xgb\n",
        "xgb=xgb.XGBClassifier()\n",
        "cv = cross_validate(xgb, X_train, y_train, cv=10)\n",
        "print(cv['test_score'])\n",
        "print(cv['test_score'].mean())"
      ],
      "execution_count": 0,
      "outputs": [
        {
          "output_type": "stream",
          "text": [
            "[0.74074074 0.76923077 0.84615385 0.76923077 0.73076923 0.80769231\n",
            " 0.80769231 0.73076923 0.80769231 0.76923077]\n",
            "0.7779202279202279\n"
          ],
          "name": "stdout"
        }
      ]
    },
    {
      "cell_type": "markdown",
      "metadata": {
        "id": "BVD4Vjyh4vMb",
        "colab_type": "text"
      },
      "source": [
        "XGBoost ย่อมาจาก Extreme Gradient Boosting ฐานมาจาก Gradient Boosting Machines  ใช้เทคนิค regularization เพื่อลดการ overfitting มีความเร็วในการประมวลผลที่สูง วิธีการคือ เอา Decision Tree มา train ต่อๆกันหลายๆ tree โดยที่แต่ละ decision tree จะเรียนรู้จาก error ของ tree ก่อนหน้า ทำให้ความแม่นยำของในการทำ prediction จะ แม่นยำขึ้น"
      ]
    },
    {
      "cell_type": "markdown",
      "metadata": {
        "id": "ouycGv7u-_CX",
        "colab_type": "text"
      },
      "source": [
        "### Naive Bayes Model"
      ]
    },
    {
      "cell_type": "code",
      "metadata": {
        "id": "wtefqUbmJlSB",
        "colab_type": "code",
        "outputId": "45320f72-e300-4f0d-9619-c9948faea4e1",
        "colab": {
          "base_uri": "https://localhost:8080/",
          "height": 67
        }
      },
      "source": [
        "#Accuracy using Naive Bayes Model\n",
        "NB = MultinomialNB()\n",
        "cv = cross_validate(NB, X_train, y_train, cv=10)\n",
        "print(cv['test_score'])\n",
        "print(cv['test_score'].mean())"
      ],
      "execution_count": 0,
      "outputs": [
        {
          "output_type": "stream",
          "text": [
            "[0.77777778 0.80769231 0.80769231 0.80769231 0.80769231 0.80769231\n",
            " 0.80769231 0.80769231 0.80769231 0.80769231]\n",
            "0.8047008547008547\n"
          ],
          "name": "stdout"
        }
      ]
    },
    {
      "cell_type": "markdown",
      "metadata": {
        "id": "F8TXxIC28uRK",
        "colab_type": "text"
      },
      "source": [
        "Naive Bayes หลักการของวิธีการนี้จะใช้การคำนวณความน่าจะเป็นเหมาะกับ dataset จำนวณมากและมี feature ที่ไม่ขึ้นต่อกันมีการจัดจำแนกประเภทอย่างง่ายประยุกต์ใช้กับจัดจำแนกประเภทข้อความ(text classification) model ไม่ซับซ้อน  "
      ]
    },
    {
      "cell_type": "markdown",
      "metadata": {
        "id": "YiUTvYj5_JEp",
        "colab_type": "text"
      },
      "source": [
        "# Pick XGboost model"
      ]
    },
    {
      "cell_type": "code",
      "metadata": {
        "id": "EeiK0gXuBtuU",
        "colab_type": "code",
        "outputId": "a1b129db-becc-48be-d07e-91c86490dbe5",
        "colab": {
          "base_uri": "https://localhost:8080/",
          "height": 217
        }
      },
      "source": [
        "# XGBoost\n",
        "import xgboost as xgb\n",
        "xgb=xgb.XGBClassifier()\n",
        "xgb.fit(X_train,y_train)\n",
        "preds2=xgb.predict(X_test)\n",
        "print(classification_report(preds2,y_test))"
      ],
      "execution_count": 0,
      "outputs": [
        {
          "output_type": "stream",
          "text": [
            "              precision    recall  f1-score   support\n",
            "\n",
            "           0       0.00      0.00      0.00         6\n",
            "           1       0.89      0.85      0.87        60\n",
            "\n",
            "    accuracy                           0.77        66\n",
            "   macro avg       0.45      0.42      0.44        66\n",
            "weighted avg       0.81      0.77      0.79        66\n",
            "\n",
            "Confusion Matrix: \n",
            "[[ 0  9]\n",
            " [ 6 51]]\n"
          ],
          "name": "stdout"
        }
      ]
    },
    {
      "cell_type": "code",
      "metadata": {
        "id": "GjSMTJ3MB-7Y",
        "colab_type": "code",
        "outputId": "492caa43-8390-49d5-97e7-eaffbf011829",
        "colab": {
          "base_uri": "https://localhost:8080/",
          "height": 67
        }
      },
      "source": [
        "print('Confusion Matrix: ',metrics.confusion_matrix(y_test,preds2), sep = '\\n')"
      ],
      "execution_count": 0,
      "outputs": [
        {
          "output_type": "stream",
          "text": [
            "Confusion Matrix: \n",
            "[[ 0  9]\n",
            " [ 6 51]]\n"
          ],
          "name": "stdout"
        }
      ]
    }
  ]
}